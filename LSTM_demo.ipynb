{
  "nbformat": 4,
  "nbformat_minor": 0,
  "metadata": {
    "colab": {
      "name": "LSTM_demo.ipynb",
      "provenance": [],
      "collapsed_sections": [],
      "authorship_tag": "ABX9TyOZtkiCXhRRiqbrYL9n/5hC",
      "include_colab_link": true
    },
    "kernelspec": {
      "name": "python3",
      "display_name": "Python 3"
    },
    "language_info": {
      "name": "python"
    }
  },
  "cells": [
    {
      "cell_type": "markdown",
      "metadata": {
        "id": "view-in-github",
        "colab_type": "text"
      },
      "source": [
        "<a href=\"https://colab.research.google.com/github/OscarChang46/de-identify-sensitive-data-for-cybersecurity-use-cases-e.g.-PII-and-PHI-data-in-unstructured-text-an/blob/main/LSTM_demo.ipynb\" target=\"_parent\"><img src=\"https://colab.research.google.com/assets/colab-badge.svg\" alt=\"Open In Colab\"/></a>"
      ]
    },
    {
      "cell_type": "code",
      "metadata": {
        "colab": {
          "base_uri": "https://localhost:8080/"
        },
        "id": "OmYGdRlJgEsY",
        "outputId": "3e804e90-d8b4-43cc-c5a9-1b9562b66f08"
      },
      "source": [
        "from google.colab import drive \n",
        "drive.mount('/content/drive')"
      ],
      "execution_count": 2,
      "outputs": [
        {
          "output_type": "stream",
          "name": "stdout",
          "text": [
            "Mounted at /content/drive\n"
          ]
        }
      ]
    },
    {
      "cell_type": "code",
      "metadata": {
        "id": "Xr_8JtMMgdyU"
      },
      "source": [
        "import torch.nn as nn\n",
        "import numpy as np\n",
        "import matplotlib.pyplot as plt\n",
        "import pandas as pd"
      ],
      "execution_count": 3,
      "outputs": []
    },
    {
      "cell_type": "code",
      "metadata": {
        "id": "YpZ4h62UgjEK"
      },
      "source": [
        "# sample data\n",
        "seq_number = np.array(\n",
        "        [112., 118., 132., 129., 121., 135., 148., 148., 136., 119., 104.,\n",
        "         118., 115., 126., 141., 135., 125., 149., 170., 170., 158., 133.,\n",
        "         114., 140., 145., 150., 178., 163., 172., 178., 199., 199., 184.,\n",
        "         162., 146., 166., 171., 180., 193., 181., 183., 218., 230., 242.,\n",
        "         209., 191., 172., 194., 196., 196., 236., 235., 229., 243., 264.,\n",
        "         272., 237., 211., 180., 201., 204., 188., 235., 227., 234., 264.,\n",
        "         302., 293., 259., 229., 203., 229., 242., 233., 267., 269., 270.,\n",
        "         315., 364., 347., 312., 274., 237., 278., 284., 277., 317., 313.,\n",
        "         318., 374., 413., 405., 355., 306., 271., 306., 315., 301., 356.,\n",
        "         348., 355., 422., 465., 467., 404., 347., 305., 336., 340., 318.,\n",
        "         362., 348., 363., 435., 491., 505., 404., 359., 310., 337., 360.,\n",
        "         342., 406., 396., 420., 472., 548., 559., 463., 407., 362., 405.,\n",
        "         417., 391., 419., 461., 472., 535., 622., 606., 508., 461., 390.,\n",
        "         432.], dtype=np.float32)"
      ],
      "execution_count": 5,
      "outputs": []
    },
    {
      "cell_type": "markdown",
      "metadata": {
        "id": "0heOHzjphDpb"
      },
      "source": [
        "## LSTM"
      ]
    },
    {
      "cell_type": "code",
      "metadata": {
        "id": "-NFsiJSmhBNy"
      },
      "source": [
        "class LSTM(nn.Module):\n",
        "  pass"
      ],
      "execution_count": null,
      "outputs": []
    }
  ]
}