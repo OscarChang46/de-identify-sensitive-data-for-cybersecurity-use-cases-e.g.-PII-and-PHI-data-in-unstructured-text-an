{
  "cells": [
    {
      "cell_type": "markdown",
      "metadata": {
        "colab_type": "text",
        "id": "view-in-github"
      },
      "source": [
        "<a href=\"https://colab.research.google.com/github/OscarChang46/de-identify-sensitive-data-for-cybersecurity-use-cases-e.g.-PII-and-PHI-data-in-unstructured-text-an/blob/main/LSTM_demo.ipynb\" target=\"_parent\"><img src=\"https://colab.research.google.com/assets/colab-badge.svg\" alt=\"Open In Colab\"/></a>"
      ]
    },
    {
      "cell_type": "code",
      "execution_count": 2,
      "metadata": {
        "colab": {
          "base_uri": "https://localhost:8080/"
        },
        "id": "OmYGdRlJgEsY",
        "outputId": "3e804e90-d8b4-43cc-c5a9-1b9562b66f08"
      },
      "outputs": [
        {
          "name": "stdout",
          "output_type": "stream",
          "text": [
            "Mounted at /content/drive\n"
          ]
        }
      ],
      "source": [
        "from google.colab import drive \n",
        "drive.mount('/content/drive')"
      ]
    },
    {
      "cell_type": "code",
      "execution_count": 5,
      "metadata": {
        "id": "Xr_8JtMMgdyU"
      },
      "outputs": [],
      "source": [
        "import torch.nn as nn\n",
        "import numpy as np\n",
        "import matplotlib.pyplot as plt\n",
        "import pandas as pd"
      ]
    },
    {
      "cell_type": "code",
      "execution_count": 6,
      "metadata": {
        "id": "YpZ4h62UgjEK"
      },
      "outputs": [],
      "source": [
        "# sample data\n",
        "seq_number = np.array(\n",
        "        [112., 118., 132., 129., 121., 135., 148., 148., 136., 119., 104.,\n",
        "         118., 115., 126., 141., 135., 125., 149., 170., 170., 158., 133.,\n",
        "         114., 140., 145., 150., 178., 163., 172., 178., 199., 199., 184.,\n",
        "         162., 146., 166., 171., 180., 193., 181., 183., 218., 230., 242.,\n",
        "         209., 191., 172., 194., 196., 196., 236., 235., 229., 243., 264.,\n",
        "         272., 237., 211., 180., 201., 204., 188., 235., 227., 234., 264.,\n",
        "         302., 293., 259., 229., 203., 229., 242., 233., 267., 269., 270.,\n",
        "         315., 364., 347., 312., 274., 237., 278., 284., 277., 317., 313.,\n",
        "         318., 374., 413., 405., 355., 306., 271., 306., 315., 301., 356.,\n",
        "         348., 355., 422., 465., 467., 404., 347., 305., 336., 340., 318.,\n",
        "         362., 348., 363., 435., 491., 505., 404., 359., 310., 337., 360.,\n",
        "         342., 406., 396., 420., 472., 548., 559., 463., 407., 362., 405.,\n",
        "         417., 391., 419., 461., 472., 535., 622., 606., 508., 461., 390.,\n",
        "         432.], dtype=np.float32)"
      ]
    },
    {
      "cell_type": "code",
      "execution_count": 9,
      "metadata": {},
      "outputs": [],
      "source": [
        "class RNN(nn.Module):\n",
        "    def __init__(self, input_size, hidden_size):\n",
        "        super(RNN, self).__init__()\n",
        "        self.W_xh = nn.Linear(input_size, hidden_size)\n",
        "        self.W_hh = nn.Linear(input_size, hidden_size)\n",
        "\n",
        "    def __call__(self, x, hidden):\n",
        "        return self.step(x, hidden)\n",
        "\n",
        "    def step(self, x, hidden):\n",
        "        h1 = self.W_hh(hidden)\n",
        "        w1 = self.W_xh(x)\n",
        "        out = nn.Tanh(h1 + w1)\n",
        "        hidden = self.W_hh.weight\n",
        "        return out, hidden"
      ]
    },
    {
      "cell_type": "code",
      "execution_count": 10,
      "metadata": {},
      "outputs": [
        {
          "data": {
            "text/plain": [
              "RNN(\n",
              "  (W_xh): Linear(in_features=20, out_features=50, bias=True)\n",
              "  (W_hh): Linear(in_features=20, out_features=50, bias=True)\n",
              ")"
            ]
          },
          "execution_count": 10,
          "metadata": {},
          "output_type": "execute_result"
        }
      ],
      "source": [
        "rnn = RNN(20, 50)\n",
        "rnn"
      ]
    },
    {
      "cell_type": "markdown",
      "metadata": {
        "id": "0heOHzjphDpb"
      },
      "source": [
        "## LSTM"
      ]
    },
    {
      "cell_type": "code",
      "execution_count": null,
      "metadata": {
        "id": "-NFsiJSmhBNy"
      },
      "outputs": [],
      "source": [
        "class LSTM(nn.Module):\n",
        "  def __init__(self):\n",
        "    super(LSTM, self).__init__()\n",
        "  \n",
        "  def forward(self):\n",
        "    pass\n",
        "  \n",
        "  def initHidden(self):\n",
        "    pass"
      ]
    },
    {
      "cell_type": "markdown",
      "metadata": {},
      "source": [
        "# Conditional Random Field\n",
        "https://github.com/typoverflow/pytorch-crf"
      ]
    },
    {
      "cell_type": "code",
      "execution_count": null,
      "metadata": {},
      "outputs": [],
      "source": [
        "import torch\n",
        "import sys\n",
        "from matplotlib.pyplot import polar\n",
        "import os\n",
        "from numpy.lib.npyio import load\n",
        "from feature_function import StatusFF, ObsFF, TransFF\n",
        "class CRF(nn.Module):\n",
        "    def __init__(self, d:LabelDict, ffshape):\n",
        "        super(CRF, self).__init__()\n",
        "        self.d = d\n",
        "        self.L = len(d)\n",
        "        self.K = 1\n",
        "        for d in ffshape:\n",
        "            self.K *= d\n",
        "        self.w = nn.Parameter(torch.zeros(self.K))"
      ]
    }
  ],
  "metadata": {
    "colab": {
      "authorship_tag": "ABX9TyNQhDEF/yDdcws6qEajCr85",
      "collapsed_sections": [],
      "include_colab_link": true,
      "name": "LSTM_demo.ipynb",
      "provenance": []
    },
    "interpreter": {
      "hash": "8c9c99c14df453c5acfecca1ae41737996bc13b0c3a420c7c11ddf365101be87"
    },
    "kernelspec": {
      "display_name": "Python 3.8.10 64-bit ('tf_m1': conda)",
      "name": "python3"
    },
    "language_info": {
      "codemirror_mode": {
        "name": "ipython",
        "version": 3
      },
      "file_extension": ".py",
      "mimetype": "text/x-python",
      "name": "python",
      "nbconvert_exporter": "python",
      "pygments_lexer": "ipython3",
      "version": "3.8.10"
    }
  },
  "nbformat": 4,
  "nbformat_minor": 0
}
